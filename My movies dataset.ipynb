{
 "cells": [
  {
   "cell_type": "code",
   "execution_count": 2,
   "id": "827285b3",
   "metadata": {},
   "outputs": [],
   "source": [
    "import pandas as pd\n",
    "import numpy as np\n",
    "import matplotlib.pyplot as plt\n",
    "import seaborn as sns\n",
    "from mlxtend.preprocessing import TransactionEncoder\n",
    "from mlxtend.frequent_patterns import apriori\n",
    "from mlxtend.frequent_patterns import fpgrowth\n",
    "from mlxtend.frequent_patterns import association_rules"
   ]
  },
  {
   "cell_type": "code",
   "execution_count": 3,
   "id": "280a75c3",
   "metadata": {},
   "outputs": [
    {
     "name": "stdout",
     "output_type": "stream",
     "text": [
      "Defaulting to user installation because normal site-packages is not writeable\n",
      "Requirement already satisfied: mlxtend in c:\\users\\admin\\appdata\\roaming\\python\\python39\\site-packages (0.21.0)\n",
      "Requirement already satisfied: matplotlib>=3.0.0 in c:\\programdata\\anaconda3\\lib\\site-packages (from mlxtend) (3.5.1)\n",
      "Requirement already satisfied: joblib>=0.13.2 in c:\\programdata\\anaconda3\\lib\\site-packages (from mlxtend) (1.1.0)\n",
      "Requirement already satisfied: setuptools in c:\\programdata\\anaconda3\\lib\\site-packages (from mlxtend) (61.2.0)\n",
      "Requirement already satisfied: pandas>=0.24.2 in c:\\programdata\\anaconda3\\lib\\site-packages (from mlxtend) (1.4.2)\n",
      "Requirement already satisfied: scikit-learn>=1.0.2 in c:\\programdata\\anaconda3\\lib\\site-packages (from mlxtend) (1.0.2)\n",
      "Requirement already satisfied: scipy>=1.2.1 in c:\\programdata\\anaconda3\\lib\\site-packages (from mlxtend) (1.7.3)\n",
      "Requirement already satisfied: numpy>=1.16.2 in c:\\programdata\\anaconda3\\lib\\site-packages (from mlxtend) (1.21.5)\n",
      "Requirement already satisfied: fonttools>=4.22.0 in c:\\programdata\\anaconda3\\lib\\site-packages (from matplotlib>=3.0.0->mlxtend) (4.25.0)\n",
      "Requirement already satisfied: packaging>=20.0 in c:\\programdata\\anaconda3\\lib\\site-packages (from matplotlib>=3.0.0->mlxtend) (21.3)\n",
      "Requirement already satisfied: cycler>=0.10 in c:\\programdata\\anaconda3\\lib\\site-packages (from matplotlib>=3.0.0->mlxtend) (0.11.0)\n",
      "Requirement already satisfied: python-dateutil>=2.7 in c:\\programdata\\anaconda3\\lib\\site-packages (from matplotlib>=3.0.0->mlxtend) (2.8.2)\n",
      "Requirement already satisfied: pyparsing>=2.2.1 in c:\\programdata\\anaconda3\\lib\\site-packages (from matplotlib>=3.0.0->mlxtend) (3.0.4)\n",
      "Requirement already satisfied: kiwisolver>=1.0.1 in c:\\programdata\\anaconda3\\lib\\site-packages (from matplotlib>=3.0.0->mlxtend) (1.3.2)\n",
      "Requirement already satisfied: pillow>=6.2.0 in c:\\programdata\\anaconda3\\lib\\site-packages (from matplotlib>=3.0.0->mlxtend) (9.0.1)\n",
      "Requirement already satisfied: pytz>=2020.1 in c:\\programdata\\anaconda3\\lib\\site-packages (from pandas>=0.24.2->mlxtend) (2021.3)\n",
      "Requirement already satisfied: six>=1.5 in c:\\programdata\\anaconda3\\lib\\site-packages (from python-dateutil>=2.7->matplotlib>=3.0.0->mlxtend) (1.16.0)\n",
      "Requirement already satisfied: threadpoolctl>=2.0.0 in c:\\programdata\\anaconda3\\lib\\site-packages (from scikit-learn>=1.0.2->mlxtend) (2.2.0)\n"
     ]
    }
   ],
   "source": [
    "!pip install mlxtend"
   ]
  },
  {
   "cell_type": "code",
   "execution_count": 4,
   "id": "bf263151",
   "metadata": {},
   "outputs": [
    {
     "data": {
      "text/html": [
       "<div>\n",
       "<style scoped>\n",
       "    .dataframe tbody tr th:only-of-type {\n",
       "        vertical-align: middle;\n",
       "    }\n",
       "\n",
       "    .dataframe tbody tr th {\n",
       "        vertical-align: top;\n",
       "    }\n",
       "\n",
       "    .dataframe thead th {\n",
       "        text-align: right;\n",
       "    }\n",
       "</style>\n",
       "<table border=\"1\" class=\"dataframe\">\n",
       "  <thead>\n",
       "    <tr style=\"text-align: right;\">\n",
       "      <th></th>\n",
       "      <th>V1</th>\n",
       "      <th>V2</th>\n",
       "      <th>V3</th>\n",
       "      <th>V4</th>\n",
       "      <th>V5</th>\n",
       "      <th>Sixth Sense</th>\n",
       "      <th>Gladiator</th>\n",
       "      <th>LOTR1</th>\n",
       "      <th>Harry Potter1</th>\n",
       "      <th>Patriot</th>\n",
       "      <th>LOTR2</th>\n",
       "      <th>Harry Potter2</th>\n",
       "      <th>LOTR</th>\n",
       "      <th>Braveheart</th>\n",
       "      <th>Green Mile</th>\n",
       "    </tr>\n",
       "  </thead>\n",
       "  <tbody>\n",
       "    <tr>\n",
       "      <th>0</th>\n",
       "      <td>Sixth Sense</td>\n",
       "      <td>LOTR1</td>\n",
       "      <td>Harry Potter1</td>\n",
       "      <td>Green Mile</td>\n",
       "      <td>LOTR2</td>\n",
       "      <td>1</td>\n",
       "      <td>0</td>\n",
       "      <td>1</td>\n",
       "      <td>1</td>\n",
       "      <td>0</td>\n",
       "      <td>1</td>\n",
       "      <td>0</td>\n",
       "      <td>0</td>\n",
       "      <td>0</td>\n",
       "      <td>1</td>\n",
       "    </tr>\n",
       "    <tr>\n",
       "      <th>1</th>\n",
       "      <td>Gladiator</td>\n",
       "      <td>Patriot</td>\n",
       "      <td>Braveheart</td>\n",
       "      <td>NaN</td>\n",
       "      <td>NaN</td>\n",
       "      <td>0</td>\n",
       "      <td>1</td>\n",
       "      <td>0</td>\n",
       "      <td>0</td>\n",
       "      <td>1</td>\n",
       "      <td>0</td>\n",
       "      <td>0</td>\n",
       "      <td>0</td>\n",
       "      <td>1</td>\n",
       "      <td>0</td>\n",
       "    </tr>\n",
       "    <tr>\n",
       "      <th>2</th>\n",
       "      <td>LOTR1</td>\n",
       "      <td>LOTR2</td>\n",
       "      <td>NaN</td>\n",
       "      <td>NaN</td>\n",
       "      <td>NaN</td>\n",
       "      <td>0</td>\n",
       "      <td>0</td>\n",
       "      <td>1</td>\n",
       "      <td>0</td>\n",
       "      <td>0</td>\n",
       "      <td>1</td>\n",
       "      <td>0</td>\n",
       "      <td>0</td>\n",
       "      <td>0</td>\n",
       "      <td>0</td>\n",
       "    </tr>\n",
       "    <tr>\n",
       "      <th>3</th>\n",
       "      <td>Gladiator</td>\n",
       "      <td>Patriot</td>\n",
       "      <td>Sixth Sense</td>\n",
       "      <td>NaN</td>\n",
       "      <td>NaN</td>\n",
       "      <td>1</td>\n",
       "      <td>1</td>\n",
       "      <td>0</td>\n",
       "      <td>0</td>\n",
       "      <td>1</td>\n",
       "      <td>0</td>\n",
       "      <td>0</td>\n",
       "      <td>0</td>\n",
       "      <td>0</td>\n",
       "      <td>0</td>\n",
       "    </tr>\n",
       "    <tr>\n",
       "      <th>4</th>\n",
       "      <td>Gladiator</td>\n",
       "      <td>Patriot</td>\n",
       "      <td>Sixth Sense</td>\n",
       "      <td>NaN</td>\n",
       "      <td>NaN</td>\n",
       "      <td>1</td>\n",
       "      <td>1</td>\n",
       "      <td>0</td>\n",
       "      <td>0</td>\n",
       "      <td>1</td>\n",
       "      <td>0</td>\n",
       "      <td>0</td>\n",
       "      <td>0</td>\n",
       "      <td>0</td>\n",
       "      <td>0</td>\n",
       "    </tr>\n",
       "  </tbody>\n",
       "</table>\n",
       "</div>"
      ],
      "text/plain": [
       "            V1       V2             V3          V4     V5  Sixth Sense  \\\n",
       "0  Sixth Sense    LOTR1  Harry Potter1  Green Mile  LOTR2            1   \n",
       "1    Gladiator  Patriot     Braveheart         NaN    NaN            0   \n",
       "2        LOTR1    LOTR2            NaN         NaN    NaN            0   \n",
       "3    Gladiator  Patriot    Sixth Sense         NaN    NaN            1   \n",
       "4    Gladiator  Patriot    Sixth Sense         NaN    NaN            1   \n",
       "\n",
       "   Gladiator  LOTR1  Harry Potter1  Patriot  LOTR2  Harry Potter2  LOTR  \\\n",
       "0          0      1              1        0      1              0     0   \n",
       "1          1      0              0        1      0              0     0   \n",
       "2          0      1              0        0      1              0     0   \n",
       "3          1      0              0        1      0              0     0   \n",
       "4          1      0              0        1      0              0     0   \n",
       "\n",
       "   Braveheart  Green Mile  \n",
       "0           0           1  \n",
       "1           1           0  \n",
       "2           0           0  \n",
       "3           0           0  \n",
       "4           0           0  "
      ]
     },
     "execution_count": 4,
     "metadata": {},
     "output_type": "execute_result"
    }
   ],
   "source": [
    "movie=pd.read_csv(\"https://excelr.s3.nl-ams.scw.cloud/DataScience-Assignments/Assignments/association%20rules/my_movies.csv\")\n",
    "movie.head()"
   ]
  },
  {
   "cell_type": "code",
   "execution_count": 5,
   "id": "c796e08d",
   "metadata": {},
   "outputs": [
    {
     "name": "stdout",
     "output_type": "stream",
     "text": [
      "Categorical variables:\n",
      "['V1', 'V2', 'V3', 'V4', 'V5']\n"
     ]
    }
   ],
   "source": [
    "# Get list of categorical variables\n",
    "s = (movie.dtypes == 'object')\n",
    "object_cols = list(s[s].index)\n",
    "\n",
    "print(\"Categorical variables:\")\n",
    "print(object_cols)"
   ]
  },
  {
   "cell_type": "code",
   "execution_count": 6,
   "id": "c90506b3",
   "metadata": {},
   "outputs": [
    {
     "data": {
      "text/html": [
       "<div>\n",
       "<style scoped>\n",
       "    .dataframe tbody tr th:only-of-type {\n",
       "        vertical-align: middle;\n",
       "    }\n",
       "\n",
       "    .dataframe tbody tr th {\n",
       "        vertical-align: top;\n",
       "    }\n",
       "\n",
       "    .dataframe thead th {\n",
       "        text-align: right;\n",
       "    }\n",
       "</style>\n",
       "<table border=\"1\" class=\"dataframe\">\n",
       "  <thead>\n",
       "    <tr style=\"text-align: right;\">\n",
       "      <th></th>\n",
       "      <th>Sixth Sense</th>\n",
       "      <th>Gladiator</th>\n",
       "      <th>LOTR1</th>\n",
       "      <th>Harry Potter1</th>\n",
       "      <th>Patriot</th>\n",
       "      <th>LOTR2</th>\n",
       "      <th>Harry Potter2</th>\n",
       "      <th>LOTR</th>\n",
       "      <th>Braveheart</th>\n",
       "      <th>Green Mile</th>\n",
       "    </tr>\n",
       "  </thead>\n",
       "  <tbody>\n",
       "    <tr>\n",
       "      <th>0</th>\n",
       "      <td>1</td>\n",
       "      <td>0</td>\n",
       "      <td>1</td>\n",
       "      <td>1</td>\n",
       "      <td>0</td>\n",
       "      <td>1</td>\n",
       "      <td>0</td>\n",
       "      <td>0</td>\n",
       "      <td>0</td>\n",
       "      <td>1</td>\n",
       "    </tr>\n",
       "    <tr>\n",
       "      <th>1</th>\n",
       "      <td>0</td>\n",
       "      <td>1</td>\n",
       "      <td>0</td>\n",
       "      <td>0</td>\n",
       "      <td>1</td>\n",
       "      <td>0</td>\n",
       "      <td>0</td>\n",
       "      <td>0</td>\n",
       "      <td>1</td>\n",
       "      <td>0</td>\n",
       "    </tr>\n",
       "    <tr>\n",
       "      <th>2</th>\n",
       "      <td>0</td>\n",
       "      <td>0</td>\n",
       "      <td>1</td>\n",
       "      <td>0</td>\n",
       "      <td>0</td>\n",
       "      <td>1</td>\n",
       "      <td>0</td>\n",
       "      <td>0</td>\n",
       "      <td>0</td>\n",
       "      <td>0</td>\n",
       "    </tr>\n",
       "    <tr>\n",
       "      <th>3</th>\n",
       "      <td>1</td>\n",
       "      <td>1</td>\n",
       "      <td>0</td>\n",
       "      <td>0</td>\n",
       "      <td>1</td>\n",
       "      <td>0</td>\n",
       "      <td>0</td>\n",
       "      <td>0</td>\n",
       "      <td>0</td>\n",
       "      <td>0</td>\n",
       "    </tr>\n",
       "    <tr>\n",
       "      <th>4</th>\n",
       "      <td>1</td>\n",
       "      <td>1</td>\n",
       "      <td>0</td>\n",
       "      <td>0</td>\n",
       "      <td>1</td>\n",
       "      <td>0</td>\n",
       "      <td>0</td>\n",
       "      <td>0</td>\n",
       "      <td>0</td>\n",
       "      <td>0</td>\n",
       "    </tr>\n",
       "  </tbody>\n",
       "</table>\n",
       "</div>"
      ],
      "text/plain": [
       "   Sixth Sense  Gladiator  LOTR1  Harry Potter1  Patriot  LOTR2  \\\n",
       "0            1          0      1              1        0      1   \n",
       "1            0          1      0              0        1      0   \n",
       "2            0          0      1              0        0      1   \n",
       "3            1          1      0              0        1      0   \n",
       "4            1          1      0              0        1      0   \n",
       "\n",
       "   Harry Potter2  LOTR  Braveheart  Green Mile  \n",
       "0              0     0           0           1  \n",
       "1              0     0           1           0  \n",
       "2              0     0           0           0  \n",
       "3              0     0           0           0  \n",
       "4              0     0           0           0  "
      ]
     },
     "execution_count": 6,
     "metadata": {},
     "output_type": "execute_result"
    }
   ],
   "source": [
    "num_movie = movie.iloc[:,5:15]\n",
    "num_movie.head()"
   ]
  },
  {
   "cell_type": "code",
   "execution_count": 7,
   "id": "77ec4a43",
   "metadata": {},
   "outputs": [],
   "source": [
    "#Apriori Algorithm"
   ]
  },
  {
   "cell_type": "code",
   "execution_count": 8,
   "id": "5b2086a1",
   "metadata": {},
   "outputs": [
    {
     "name": "stdout",
     "output_type": "stream",
     "text": [
      "\r",
      "Processing 42 combinations | Sampling itemset size 2\r",
      "Processing 27 combinations | Sampling itemset size 3\n",
      "   support         itemsets\n",
      "0      0.6    (Sixth Sense)\n",
      "1      0.7      (Gladiator)\n",
      "2      0.2          (LOTR1)\n",
      "3      0.2  (Harry Potter1)\n",
      "4      0.6        (Patriot)\n"
     ]
    },
    {
     "name": "stderr",
     "output_type": "stream",
     "text": [
      "C:\\Users\\Admin\\AppData\\Roaming\\Python\\Python39\\site-packages\\mlxtend\\frequent_patterns\\fpcommon.py:111: DeprecationWarning: DataFrames with non-bool types result in worse computationalperformance and their support might be discontinued in the future.Please use a DataFrame with bool type\n",
      "  warnings.warn(\n"
     ]
    }
   ],
   "source": [
    "frequent_itemsets_ap = apriori(num_movie, min_support=0.15, use_colnames=True,verbose=1)\n",
    "print(frequent_itemsets_ap.head())"
   ]
  },
  {
   "cell_type": "code",
   "execution_count": 9,
   "id": "8c726e69",
   "metadata": {},
   "outputs": [
    {
     "data": {
      "text/plain": [
       "(13, 2)"
      ]
     },
     "execution_count": 9,
     "metadata": {},
     "output_type": "execute_result"
    }
   ],
   "source": [
    "frequent_itemsets_ap.sort_values(\"support\", ascending = False).shape"
   ]
  },
  {
   "cell_type": "code",
   "execution_count": 10,
   "id": "bc19d303",
   "metadata": {},
   "outputs": [
    {
     "name": "stdout",
     "output_type": "stream",
     "text": [
      "     antecedents    consequents  antecedent support  consequent support  \\\n",
      "0    (Gladiator)  (Sixth Sense)                 0.7                 0.6   \n",
      "1  (Sixth Sense)    (Gladiator)                 0.6                 0.7   \n",
      "2  (Sixth Sense)      (Patriot)                 0.6                 0.6   \n",
      "3      (Patriot)  (Sixth Sense)                 0.6                 0.6   \n",
      "4   (Green Mile)  (Sixth Sense)                 0.2                 0.6   \n",
      "\n",
      "   support  confidence      lift  leverage  conviction  \n",
      "0      0.5    0.714286  1.190476      0.08         1.4  \n",
      "1      0.5    0.833333  1.190476      0.08         1.8  \n",
      "2      0.4    0.666667  1.111111      0.04         1.2  \n",
      "3      0.4    0.666667  1.111111      0.04         1.2  \n",
      "4      0.2    1.000000  1.666667      0.08         inf  \n"
     ]
    }
   ],
   "source": [
    "rules_ap = association_rules(frequent_itemsets_ap, metric=\"confidence\", min_threshold=0.1)\n",
    "print(rules_ap.head())\n"
   ]
  },
  {
   "cell_type": "code",
   "execution_count": 11,
   "id": "ea79db9b",
   "metadata": {},
   "outputs": [
    {
     "data": {
      "text/plain": [
       "(15, 9)"
      ]
     },
     "execution_count": 11,
     "metadata": {},
     "output_type": "execute_result"
    }
   ],
   "source": [
    "rules_ap[(rules_ap.support > 0.015) & (rules_ap.confidence > 0.4)].sort_values(\"confidence\", ascending = False).shape"
   ]
  },
  {
   "cell_type": "code",
   "execution_count": 12,
   "id": "a6d257db",
   "metadata": {},
   "outputs": [
    {
     "data": {
      "text/html": [
       "<div>\n",
       "<style scoped>\n",
       "    .dataframe tbody tr th:only-of-type {\n",
       "        vertical-align: middle;\n",
       "    }\n",
       "\n",
       "    .dataframe tbody tr th {\n",
       "        vertical-align: top;\n",
       "    }\n",
       "\n",
       "    .dataframe thead th {\n",
       "        text-align: right;\n",
       "    }\n",
       "</style>\n",
       "<table border=\"1\" class=\"dataframe\">\n",
       "  <thead>\n",
       "    <tr style=\"text-align: right;\">\n",
       "      <th></th>\n",
       "      <th>antecedents</th>\n",
       "      <th>consequents</th>\n",
       "      <th>antecedent support</th>\n",
       "      <th>consequent support</th>\n",
       "      <th>support</th>\n",
       "      <th>confidence</th>\n",
       "      <th>lift</th>\n",
       "      <th>leverage</th>\n",
       "      <th>conviction</th>\n",
       "      <th>lhs items</th>\n",
       "    </tr>\n",
       "  </thead>\n",
       "  <tbody>\n",
       "    <tr>\n",
       "      <th>12</th>\n",
       "      <td>(Sixth Sense, Patriot)</td>\n",
       "      <td>(Gladiator)</td>\n",
       "      <td>0.4</td>\n",
       "      <td>0.7</td>\n",
       "      <td>0.4</td>\n",
       "      <td>1.000000</td>\n",
       "      <td>1.428571</td>\n",
       "      <td>0.12</td>\n",
       "      <td>inf</td>\n",
       "      <td>2</td>\n",
       "    </tr>\n",
       "    <tr>\n",
       "      <th>10</th>\n",
       "      <td>(Gladiator, Sixth Sense)</td>\n",
       "      <td>(Patriot)</td>\n",
       "      <td>0.5</td>\n",
       "      <td>0.6</td>\n",
       "      <td>0.4</td>\n",
       "      <td>0.800000</td>\n",
       "      <td>1.333333</td>\n",
       "      <td>0.10</td>\n",
       "      <td>2.0</td>\n",
       "      <td>2</td>\n",
       "    </tr>\n",
       "    <tr>\n",
       "      <th>11</th>\n",
       "      <td>(Gladiator, Patriot)</td>\n",
       "      <td>(Sixth Sense)</td>\n",
       "      <td>0.6</td>\n",
       "      <td>0.6</td>\n",
       "      <td>0.4</td>\n",
       "      <td>0.666667</td>\n",
       "      <td>1.111111</td>\n",
       "      <td>0.04</td>\n",
       "      <td>1.2</td>\n",
       "      <td>2</td>\n",
       "    </tr>\n",
       "  </tbody>\n",
       "</table>\n",
       "</div>"
      ],
      "text/plain": [
       "                 antecedents    consequents  antecedent support  \\\n",
       "12    (Sixth Sense, Patriot)    (Gladiator)                 0.4   \n",
       "10  (Gladiator, Sixth Sense)      (Patriot)                 0.5   \n",
       "11      (Gladiator, Patriot)  (Sixth Sense)                 0.6   \n",
       "\n",
       "    consequent support  support  confidence      lift  leverage  conviction  \\\n",
       "12                 0.7      0.4    1.000000  1.428571      0.12         inf   \n",
       "10                 0.6      0.4    0.800000  1.333333      0.10         2.0   \n",
       "11                 0.6      0.4    0.666667  1.111111      0.04         1.2   \n",
       "\n",
       "    lhs items  \n",
       "12          2  \n",
       "10          2  \n",
       "11          2  "
      ]
     },
     "execution_count": 12,
     "metadata": {},
     "output_type": "execute_result"
    }
   ],
   "source": [
    "rules_ap['lhs items'] = rules_ap['antecedents'].apply(lambda x:len(x) )\n",
    "rules_ap[rules_ap['lhs items']>1].sort_values('lift', ascending=False).head()"
   ]
  },
  {
   "cell_type": "code",
   "execution_count": 13,
   "id": "cc287565",
   "metadata": {},
   "outputs": [
    {
     "data": {
      "text/plain": [
       "(array([0.5, 1.5, 2.5]),\n",
       " [Text(0.5, 0, 'Gladiator'),\n",
       "  Text(1.5, 0, 'Patriot'),\n",
       "  Text(2.5, 0, 'Sixth Sense')])"
      ]
     },
     "execution_count": 13,
     "metadata": {},
     "output_type": "execute_result"
    },
    {
     "data": {
      "image/png": "[encoded data removed]",
      "text/plain": [
       "<Figure size 432x288 with 2 Axes>"
      ]
     },
     "metadata": {
      "needs_background": "light"
     },
     "output_type": "display_data"
    }
   ],
   "source": [
    "rules_ap['antecedents_'] = rules_ap['antecedents'].apply(lambda a: ','.join(list(a)))\n",
    "rules_ap['consequents_'] = rules_ap['consequents'].apply(lambda a: ','.join(list(a)))\n",
    "# Transform the DataFrame of rules into a matrix using the confidence metric\n",
    "pivot = rules_ap[rules_ap['lhs items']>1].pivot(index = 'antecedents_', \n",
    "                    columns = 'consequents_', values= 'confidence')\n",
    "# Generate a heatmap with annotations \n",
    "sns.heatmap(pivot, annot = True)\n",
    "plt.title('Heat Map - For Confidence Metric')\n",
    "plt.yticks(rotation=0)\n",
    "plt.xticks(rotation=90)"
   ]
  },
  {
   "cell_type": "code",
   "execution_count": 14,
   "id": "3d5a9599",
   "metadata": {},
   "outputs": [
    {
     "name": "stdout",
     "output_type": "stream",
     "text": [
      "(16, 9)\n"
     ]
    }
   ],
   "source": [
    "rules_ap_li = association_rules(frequent_itemsets_ap, metric=\"lift\", min_threshold=0.8)\n",
    "print(rules_ap_li.shape)"
   ]
  },
  {
   "cell_type": "code",
   "execution_count": 15,
   "id": "e19805e1",
   "metadata": {},
   "outputs": [
    {
     "data": {
      "text/html": [
       "<div>\n",
       "<style scoped>\n",
       "    .dataframe tbody tr th:only-of-type {\n",
       "        vertical-align: middle;\n",
       "    }\n",
       "\n",
       "    .dataframe tbody tr th {\n",
       "        vertical-align: top;\n",
       "    }\n",
       "\n",
       "    .dataframe thead th {\n",
       "        text-align: right;\n",
       "    }\n",
       "</style>\n",
       "<table border=\"1\" class=\"dataframe\">\n",
       "  <thead>\n",
       "    <tr style=\"text-align: right;\">\n",
       "      <th></th>\n",
       "      <th>antecedents</th>\n",
       "      <th>consequents</th>\n",
       "      <th>antecedent support</th>\n",
       "      <th>consequent support</th>\n",
       "      <th>support</th>\n",
       "      <th>confidence</th>\n",
       "      <th>lift</th>\n",
       "      <th>leverage</th>\n",
       "      <th>conviction</th>\n",
       "      <th>lhs items</th>\n",
       "    </tr>\n",
       "  </thead>\n",
       "  <tbody>\n",
       "    <tr>\n",
       "      <th>12</th>\n",
       "      <td>(Sixth Sense, Patriot)</td>\n",
       "      <td>(Gladiator)</td>\n",
       "      <td>0.4</td>\n",
       "      <td>0.7</td>\n",
       "      <td>0.4</td>\n",
       "      <td>1.000000</td>\n",
       "      <td>1.428571</td>\n",
       "      <td>0.12</td>\n",
       "      <td>inf</td>\n",
       "      <td>2</td>\n",
       "    </tr>\n",
       "    <tr>\n",
       "      <th>10</th>\n",
       "      <td>(Gladiator, Sixth Sense)</td>\n",
       "      <td>(Patriot)</td>\n",
       "      <td>0.5</td>\n",
       "      <td>0.6</td>\n",
       "      <td>0.4</td>\n",
       "      <td>0.800000</td>\n",
       "      <td>1.333333</td>\n",
       "      <td>0.10</td>\n",
       "      <td>2.0</td>\n",
       "      <td>2</td>\n",
       "    </tr>\n",
       "    <tr>\n",
       "      <th>11</th>\n",
       "      <td>(Gladiator, Patriot)</td>\n",
       "      <td>(Sixth Sense)</td>\n",
       "      <td>0.6</td>\n",
       "      <td>0.6</td>\n",
       "      <td>0.4</td>\n",
       "      <td>0.666667</td>\n",
       "      <td>1.111111</td>\n",
       "      <td>0.04</td>\n",
       "      <td>1.2</td>\n",
       "      <td>2</td>\n",
       "    </tr>\n",
       "  </tbody>\n",
       "</table>\n",
       "</div>"
      ],
      "text/plain": [
       "                 antecedents    consequents  antecedent support  \\\n",
       "12    (Sixth Sense, Patriot)    (Gladiator)                 0.4   \n",
       "10  (Gladiator, Sixth Sense)      (Patriot)                 0.5   \n",
       "11      (Gladiator, Patriot)  (Sixth Sense)                 0.6   \n",
       "\n",
       "    consequent support  support  confidence      lift  leverage  conviction  \\\n",
       "12                 0.7      0.4    1.000000  1.428571      0.12         inf   \n",
       "10                 0.6      0.4    0.800000  1.333333      0.10         2.0   \n",
       "11                 0.6      0.4    0.666667  1.111111      0.04         1.2   \n",
       "\n",
       "    lhs items  \n",
       "12          2  \n",
       "10          2  \n",
       "11          2  "
      ]
     },
     "execution_count": 15,
     "metadata": {},
     "output_type": "execute_result"
    }
   ],
   "source": [
    "rules_ap_li['lhs items'] = rules_ap_li['antecedents'].apply(lambda x:len(x) )\n",
    "rules_ap_li[rules_ap_li['lhs items']>1].sort_values('lift', ascending=False).head()"
   ]
  },
  {
   "cell_type": "code",
   "execution_count": 16,
   "id": "c3c36fbb",
   "metadata": {},
   "outputs": [
    {
     "data": {
      "text/plain": [
       "(array([0.5, 1.5, 2.5]),\n",
       " [Text(0.5, 0, 'Gladiator'),\n",
       "  Text(1.5, 0, 'Patriot'),\n",
       "  Text(2.5, 0, 'Sixth Sense')])"
      ]
     },
     "execution_count": 16,
     "metadata": {},
     "output_type": "execute_result"
    },
    {
     "data": {
      "image/png": "[encoded data removed]",
      "text/plain": [
       "<Figure size 432x288 with 2 Axes>"
      ]
     },
     "metadata": {
      "needs_background": "light"
     },
     "output_type": "display_data"
    }
   ],
   "source": [
    "# Replace frozen sets with strings\n",
    "rules_ap_li['antecedents_'] = rules_ap_li['antecedents'].apply(lambda a: ','.join(list(a)))\n",
    "rules_ap_li['consequents_'] = rules_ap_li['consequents'].apply(lambda a: ','.join(list(a)))\n",
    "# Transform the DataFrame of rules into a matrix using the lift metric\n",
    "pivot = rules_ap_li[rules_ap_li['lhs items']>1].pivot(index = 'antecedents_', \n",
    "                    columns = 'consequents_', values= 'lift')\n",
    "# Generate a heatmap with annotations on and the colorbar off\n",
    "sns.heatmap(pivot, annot = True)\n",
    "plt.title('Heat Map - For Lift Metric')\n",
    "plt.yticks(rotation=0)\n",
    "plt.xticks(rotation=90)"
   ]
  },
  {
   "cell_type": "code",
   "execution_count": 17,
   "id": "02e81a18",
   "metadata": {},
   "outputs": [],
   "source": [
    "#FpGrowth Algorithm"
   ]
  },
  {
   "cell_type": "code",
   "execution_count": 18,
   "id": "587e9979",
   "metadata": {},
   "outputs": [
    {
     "name": "stdout",
     "output_type": "stream",
     "text": [
      "\r",
      "10 itemset(s) from tree conditioned on items ()\n",
      "\r",
      "3 itemset(s) from tree conditioned on items (Sixth Sense)\n",
      "\r",
      "3 itemset(s) from tree conditioned on items (Green Mile)\n",
      "\r",
      "3 itemset(s) from tree conditioned on items (LOTR2)\n",
      "\r",
      "7 itemset(s) from tree conditioned on items (Harry Potter1)\n",
      "\r",
      "15 itemset(s) from tree conditioned on items (LOTR1)\n",
      "\r",
      "0 itemset(s) from tree conditioned on items (Gladiator)\n",
      "\r",
      "1 itemset(s) from tree conditioned on items (Patriot)\n",
      "\r",
      "3 itemset(s) from tree conditioned on items (Braveheart)\n",
      "\r",
      "1 itemset(s) from tree conditioned on items (Harry Potter2)\n",
      "\r",
      "7 itemset(s) from tree conditioned on items (LOTR)\n",
      "(53, 2)\n"
     ]
    },
    {
     "name": "stderr",
     "output_type": "stream",
     "text": [
      "C:\\Users\\Admin\\AppData\\Roaming\\Python\\Python39\\site-packages\\mlxtend\\frequent_patterns\\fpcommon.py:111: DeprecationWarning: DataFrames with non-bool types result in worse computationalperformance and their support might be discontinued in the future.Please use a DataFrame with bool type\n",
      "  warnings.warn(\n"
     ]
    }
   ],
   "source": [
    "frequent_itemsets_fp=fpgrowth(num_movie, min_support=0.1, use_colnames=True,verbose=1)\n",
    "print(frequent_itemsets_fp.shape)"
   ]
  },
  {
   "cell_type": "code",
   "execution_count": 19,
   "id": "af7197cf",
   "metadata": {},
   "outputs": [
    {
     "data": {
      "text/html": [
       "<div>\n",
       "<style scoped>\n",
       "    .dataframe tbody tr th:only-of-type {\n",
       "        vertical-align: middle;\n",
       "    }\n",
       "\n",
       "    .dataframe tbody tr th {\n",
       "        vertical-align: top;\n",
       "    }\n",
       "\n",
       "    .dataframe thead th {\n",
       "        text-align: right;\n",
       "    }\n",
       "</style>\n",
       "<table border=\"1\" class=\"dataframe\">\n",
       "  <thead>\n",
       "    <tr style=\"text-align: right;\">\n",
       "      <th></th>\n",
       "      <th>support</th>\n",
       "      <th>itemsets</th>\n",
       "    </tr>\n",
       "  </thead>\n",
       "  <tbody>\n",
       "    <tr>\n",
       "      <th>5</th>\n",
       "      <td>0.7</td>\n",
       "      <td>(Gladiator)</td>\n",
       "    </tr>\n",
       "    <tr>\n",
       "      <th>0</th>\n",
       "      <td>0.6</td>\n",
       "      <td>(Sixth Sense)</td>\n",
       "    </tr>\n",
       "    <tr>\n",
       "      <th>41</th>\n",
       "      <td>0.6</td>\n",
       "      <td>(Gladiator, Patriot)</td>\n",
       "    </tr>\n",
       "    <tr>\n",
       "      <th>6</th>\n",
       "      <td>0.6</td>\n",
       "      <td>(Patriot)</td>\n",
       "    </tr>\n",
       "    <tr>\n",
       "      <th>10</th>\n",
       "      <td>0.5</td>\n",
       "      <td>(Gladiator, Sixth Sense)</td>\n",
       "    </tr>\n",
       "  </tbody>\n",
       "</table>\n",
       "</div>"
      ],
      "text/plain": [
       "    support                  itemsets\n",
       "5       0.7               (Gladiator)\n",
       "0       0.6             (Sixth Sense)\n",
       "41      0.6      (Gladiator, Patriot)\n",
       "6       0.6                 (Patriot)\n",
       "10      0.5  (Gladiator, Sixth Sense)"
      ]
     },
     "execution_count": 19,
     "metadata": {},
     "output_type": "execute_result"
    }
   ],
   "source": [
    "frequent_itemsets_fp.sort_values(\"support\", ascending = False).head()"
   ]
  },
  {
   "cell_type": "code",
   "execution_count": 20,
   "id": "9ce236c0",
   "metadata": {},
   "outputs": [
    {
     "name": "stdout",
     "output_type": "stream",
     "text": [
      "                antecedents    consequents  antecedent support  \\\n",
      "0             (Sixth Sense)    (Gladiator)                 0.6   \n",
      "1  (Gladiator, Sixth Sense)      (Patriot)                 0.5   \n",
      "2    (Sixth Sense, Patriot)    (Gladiator)                 0.4   \n",
      "3              (Green Mile)  (Sixth Sense)                 0.2   \n",
      "4   (Green Mile, Gladiator)  (Sixth Sense)                 0.1   \n",
      "\n",
      "   consequent support  support  confidence      lift  leverage  conviction  \n",
      "0                 0.7      0.5    0.833333  1.190476      0.08         1.8  \n",
      "1                 0.6      0.4    0.800000  1.333333      0.10         2.0  \n",
      "2                 0.7      0.4    1.000000  1.428571      0.12         inf  \n",
      "3                 0.6      0.2    1.000000  1.666667      0.08         inf  \n",
      "4                 0.6      0.1    1.000000  1.666667      0.04         inf  \n"
     ]
    }
   ],
   "source": [
    "rules_fp = association_rules(frequent_itemsets_fp, metric=\"confidence\", min_threshold=0.8)\n",
    "print(rules_fp.head())"
   ]
  },
  {
   "cell_type": "code",
   "execution_count": 21,
   "id": "dad6bc80",
   "metadata": {},
   "outputs": [
    {
     "data": {
      "text/plain": [
       "(8, 9)"
      ]
     },
     "execution_count": 21,
     "metadata": {},
     "output_type": "execute_result"
    }
   ],
   "source": [
    "rules_fp[(rules_fp.support > 0.1) & (rules_fp.confidence > 0.4)].sort_values(\"confidence\", ascending = False).shape"
   ]
  },
  {
   "cell_type": "code",
   "execution_count": 22,
   "id": "b84b08df",
   "metadata": {},
   "outputs": [
    {
     "data": {
      "text/html": [
       "<div>\n",
       "<style scoped>\n",
       "    .dataframe tbody tr th:only-of-type {\n",
       "        vertical-align: middle;\n",
       "    }\n",
       "\n",
       "    .dataframe tbody tr th {\n",
       "        vertical-align: top;\n",
       "    }\n",
       "\n",
       "    .dataframe thead th {\n",
       "        text-align: right;\n",
       "    }\n",
       "</style>\n",
       "<table border=\"1\" class=\"dataframe\">\n",
       "  <thead>\n",
       "    <tr style=\"text-align: right;\">\n",
       "      <th></th>\n",
       "      <th>antecedents</th>\n",
       "      <th>consequents</th>\n",
       "      <th>antecedent support</th>\n",
       "      <th>consequent support</th>\n",
       "      <th>support</th>\n",
       "      <th>confidence</th>\n",
       "      <th>lift</th>\n",
       "      <th>leverage</th>\n",
       "      <th>conviction</th>\n",
       "      <th>lhs items</th>\n",
       "    </tr>\n",
       "  </thead>\n",
       "  <tbody>\n",
       "    <tr>\n",
       "      <th>126</th>\n",
       "      <td>(LOTR, Sixth Sense)</td>\n",
       "      <td>(Green Mile, Gladiator)</td>\n",
       "      <td>0.1</td>\n",
       "      <td>0.1</td>\n",
       "      <td>0.1</td>\n",
       "      <td>1.0</td>\n",
       "      <td>10.0</td>\n",
       "      <td>0.09</td>\n",
       "      <td>inf</td>\n",
       "      <td>2</td>\n",
       "    </tr>\n",
       "    <tr>\n",
       "      <th>86</th>\n",
       "      <td>(Green Mile, LOTR2, Harry Potter1)</td>\n",
       "      <td>(LOTR1, Sixth Sense)</td>\n",
       "      <td>0.1</td>\n",
       "      <td>0.1</td>\n",
       "      <td>0.1</td>\n",
       "      <td>1.0</td>\n",
       "      <td>10.0</td>\n",
       "      <td>0.09</td>\n",
       "      <td>inf</td>\n",
       "      <td>3</td>\n",
       "    </tr>\n",
       "    <tr>\n",
       "      <th>84</th>\n",
       "      <td>(LOTR1, Harry Potter1, Sixth Sense)</td>\n",
       "      <td>(Green Mile, LOTR2)</td>\n",
       "      <td>0.1</td>\n",
       "      <td>0.1</td>\n",
       "      <td>0.1</td>\n",
       "      <td>1.0</td>\n",
       "      <td>10.0</td>\n",
       "      <td>0.09</td>\n",
       "      <td>inf</td>\n",
       "      <td>3</td>\n",
       "    </tr>\n",
       "    <tr>\n",
       "      <th>81</th>\n",
       "      <td>(LOTR1, Green Mile, LOTR2)</td>\n",
       "      <td>(Harry Potter1, Sixth Sense)</td>\n",
       "      <td>0.1</td>\n",
       "      <td>0.1</td>\n",
       "      <td>0.1</td>\n",
       "      <td>1.0</td>\n",
       "      <td>10.0</td>\n",
       "      <td>0.09</td>\n",
       "      <td>inf</td>\n",
       "      <td>3</td>\n",
       "    </tr>\n",
       "    <tr>\n",
       "      <th>80</th>\n",
       "      <td>(LOTR1, Green Mile, Harry Potter1)</td>\n",
       "      <td>(LOTR2, Sixth Sense)</td>\n",
       "      <td>0.1</td>\n",
       "      <td>0.1</td>\n",
       "      <td>0.1</td>\n",
       "      <td>1.0</td>\n",
       "      <td>10.0</td>\n",
       "      <td>0.09</td>\n",
       "      <td>inf</td>\n",
       "      <td>3</td>\n",
       "    </tr>\n",
       "  </tbody>\n",
       "</table>\n",
       "</div>"
      ],
      "text/plain": [
       "                             antecedents                   consequents  \\\n",
       "126                  (LOTR, Sixth Sense)       (Green Mile, Gladiator)   \n",
       "86    (Green Mile, LOTR2, Harry Potter1)          (LOTR1, Sixth Sense)   \n",
       "84   (LOTR1, Harry Potter1, Sixth Sense)           (Green Mile, LOTR2)   \n",
       "81            (LOTR1, Green Mile, LOTR2)  (Harry Potter1, Sixth Sense)   \n",
       "80    (LOTR1, Green Mile, Harry Potter1)          (LOTR2, Sixth Sense)   \n",
       "\n",
       "     antecedent support  consequent support  support  confidence  lift  \\\n",
       "126                 0.1                 0.1      0.1         1.0  10.0   \n",
       "86                  0.1                 0.1      0.1         1.0  10.0   \n",
       "84                  0.1                 0.1      0.1         1.0  10.0   \n",
       "81                  0.1                 0.1      0.1         1.0  10.0   \n",
       "80                  0.1                 0.1      0.1         1.0  10.0   \n",
       "\n",
       "     leverage  conviction  lhs items  \n",
       "126      0.09         inf          2  \n",
       "86       0.09         inf          3  \n",
       "84       0.09         inf          3  \n",
       "81       0.09         inf          3  \n",
       "80       0.09         inf          3  "
      ]
     },
     "execution_count": 22,
     "metadata": {},
     "output_type": "execute_result"
    }
   ],
   "source": [
    "rules_fp['lhs items'] = rules_fp['antecedents'].apply(lambda x:len(x) )\n",
    "rules_fp[rules_fp['lhs items']>1].sort_values('lift', ascending=False).head()"
   ]
  },
  {
   "cell_type": "code",
   "execution_count": 23,
   "id": "7626b175",
   "metadata": {},
   "outputs": [
    {
     "data": {
      "text/plain": [
       "(array([ 0.5,  2.5,  4.5,  6.5,  8.5, 10.5, 12.5, 14.5, 16.5, 18.5, 20.5,\n",
       "        22.5, 24.5, 26.5, 28.5]),\n",
       " [Text(0.5, 0, 'Gladiator'),\n",
       "  Text(2.5, 0, 'Green Mile'),\n",
       "  Text(4.5, 0, 'Green Mile,Harry Potter1'),\n",
       "  Text(6.5, 0, 'Green Mile,LOTR2,Harry Potter1'),\n",
       "  Text(8.5, 0, 'Green Mile,Sixth Sense'),\n",
       "  Text(10.5, 0, 'Harry Potter1,Sixth Sense'),\n",
       "  Text(12.5, 0, 'LOTR,Sixth Sense'),\n",
       "  Text(14.5, 0, 'LOTR1,Green Mile'),\n",
       "  Text(16.5, 0, 'LOTR1,Green Mile,LOTR2'),\n",
       "  Text(18.5, 0, 'LOTR1,Harry Potter1'),\n",
       "  Text(20.5, 0, 'LOTR1,LOTR2'),\n",
       "  Text(22.5, 0, 'LOTR1,Sixth Sense'),\n",
       "  Text(24.5, 0, 'LOTR2,Harry Potter1'),\n",
       "  Text(26.5, 0, 'LOTR2,Sixth Sense'),\n",
       "  Text(28.5, 0, 'Sixth Sense')])"
      ]
     },
     "execution_count": 23,
     "metadata": {},
     "output_type": "execute_result"
    },
    {
     "data": {
      "image/png": "[encoded data removed]",
      "text/plain": [
       "<Figure size 432x288 with 2 Axes>"
      ]
     },
     "metadata": {
      "needs_background": "light"
     },
     "output_type": "display_data"
    }
   ],
   "source": [
    "rules_fp['antecedents_'] = rules_fp['antecedents'].apply(lambda a: ','.join(list(a)))\n",
    "rules_fp['consequents_'] = rules_fp['consequents'].apply(lambda a: ','.join(list(a)))\n",
    "# Transform the DataFrame of rules into a matrix using the confidence metric\n",
    "pivot = rules_fp[rules_fp['lhs items']>1].pivot(index = 'antecedents_', \n",
    "                    columns = 'consequents_', values= 'confidence')\n",
    "# Generate a heatmap with annotations \n",
    "sns.heatmap(pivot, annot = True)\n",
    "plt.title('Heat Map - For Confidence Metric')\n",
    "plt.yticks(rotation=0)\n",
    "plt.xticks(rotation=90)"
   ]
  },
  {
   "cell_type": "code",
   "execution_count": 24,
   "id": "9c0590e1",
   "metadata": {},
   "outputs": [
    {
     "name": "stdout",
     "output_type": "stream",
     "text": [
      "(246, 9)\n"
     ]
    }
   ],
   "source": [
    "rules_fp_li = association_rules(frequent_itemsets_fp, metric=\"lift\", min_threshold=0.8)\n",
    "print(rules_fp_li.shape)"
   ]
  },
  {
   "cell_type": "code",
   "execution_count": 25,
   "id": "465eb44b",
   "metadata": {},
   "outputs": [
    {
     "data": {
      "text/html": [
       "<div>\n",
       "<style scoped>\n",
       "    .dataframe tbody tr th:only-of-type {\n",
       "        vertical-align: middle;\n",
       "    }\n",
       "\n",
       "    .dataframe tbody tr th {\n",
       "        vertical-align: top;\n",
       "    }\n",
       "\n",
       "    .dataframe thead th {\n",
       "        text-align: right;\n",
       "    }\n",
       "</style>\n",
       "<table border=\"1\" class=\"dataframe\">\n",
       "  <thead>\n",
       "    <tr style=\"text-align: right;\">\n",
       "      <th></th>\n",
       "      <th>antecedents</th>\n",
       "      <th>consequents</th>\n",
       "      <th>antecedent support</th>\n",
       "      <th>consequent support</th>\n",
       "      <th>support</th>\n",
       "      <th>confidence</th>\n",
       "      <th>lift</th>\n",
       "      <th>leverage</th>\n",
       "      <th>conviction</th>\n",
       "      <th>lhs items</th>\n",
       "    </tr>\n",
       "  </thead>\n",
       "  <tbody>\n",
       "    <tr>\n",
       "      <th>184</th>\n",
       "      <td>(Green Mile, LOTR2)</td>\n",
       "      <td>(LOTR1, Harry Potter1, Sixth Sense)</td>\n",
       "      <td>0.1</td>\n",
       "      <td>0.1</td>\n",
       "      <td>0.1</td>\n",
       "      <td>1.0</td>\n",
       "      <td>10.0</td>\n",
       "      <td>0.09</td>\n",
       "      <td>inf</td>\n",
       "      <td>2</td>\n",
       "    </tr>\n",
       "    <tr>\n",
       "      <th>58</th>\n",
       "      <td>(LOTR2, Sixth Sense)</td>\n",
       "      <td>(Green Mile, Harry Potter1)</td>\n",
       "      <td>0.1</td>\n",
       "      <td>0.1</td>\n",
       "      <td>0.1</td>\n",
       "      <td>1.0</td>\n",
       "      <td>10.0</td>\n",
       "      <td>0.09</td>\n",
       "      <td>inf</td>\n",
       "      <td>2</td>\n",
       "    </tr>\n",
       "    <tr>\n",
       "      <th>186</th>\n",
       "      <td>(LOTR2, Harry Potter1)</td>\n",
       "      <td>(LOTR1, Green Mile, Sixth Sense)</td>\n",
       "      <td>0.1</td>\n",
       "      <td>0.1</td>\n",
       "      <td>0.1</td>\n",
       "      <td>1.0</td>\n",
       "      <td>10.0</td>\n",
       "      <td>0.09</td>\n",
       "      <td>inf</td>\n",
       "      <td>2</td>\n",
       "    </tr>\n",
       "    <tr>\n",
       "      <th>157</th>\n",
       "      <td>(Green Mile, Harry Potter1)</td>\n",
       "      <td>(LOTR1, Sixth Sense)</td>\n",
       "      <td>0.1</td>\n",
       "      <td>0.1</td>\n",
       "      <td>0.1</td>\n",
       "      <td>1.0</td>\n",
       "      <td>10.0</td>\n",
       "      <td>0.09</td>\n",
       "      <td>inf</td>\n",
       "      <td>2</td>\n",
       "    </tr>\n",
       "    <tr>\n",
       "      <th>156</th>\n",
       "      <td>(LOTR1, Sixth Sense)</td>\n",
       "      <td>(Green Mile, Harry Potter1)</td>\n",
       "      <td>0.1</td>\n",
       "      <td>0.1</td>\n",
       "      <td>0.1</td>\n",
       "      <td>1.0</td>\n",
       "      <td>10.0</td>\n",
       "      <td>0.09</td>\n",
       "      <td>inf</td>\n",
       "      <td>2</td>\n",
       "    </tr>\n",
       "  </tbody>\n",
       "</table>\n",
       "</div>"
      ],
      "text/plain": [
       "                     antecedents                          consequents  \\\n",
       "184          (Green Mile, LOTR2)  (LOTR1, Harry Potter1, Sixth Sense)   \n",
       "58          (LOTR2, Sixth Sense)          (Green Mile, Harry Potter1)   \n",
       "186       (LOTR2, Harry Potter1)     (LOTR1, Green Mile, Sixth Sense)   \n",
       "157  (Green Mile, Harry Potter1)                 (LOTR1, Sixth Sense)   \n",
       "156         (LOTR1, Sixth Sense)          (Green Mile, Harry Potter1)   \n",
       "\n",
       "     antecedent support  consequent support  support  confidence  lift  \\\n",
       "184                 0.1                 0.1      0.1         1.0  10.0   \n",
       "58                  0.1                 0.1      0.1         1.0  10.0   \n",
       "186                 0.1                 0.1      0.1         1.0  10.0   \n",
       "157                 0.1                 0.1      0.1         1.0  10.0   \n",
       "156                 0.1                 0.1      0.1         1.0  10.0   \n",
       "\n",
       "     leverage  conviction  lhs items  \n",
       "184      0.09         inf          2  \n",
       "58       0.09         inf          2  \n",
       "186      0.09         inf          2  \n",
       "157      0.09         inf          2  \n",
       "156      0.09         inf          2  "
      ]
     },
     "execution_count": 25,
     "metadata": {},
     "output_type": "execute_result"
    }
   ],
   "source": [
    "rules_fp_li['lhs items'] = rules_fp_li['antecedents'].apply(lambda x:len(x) )\n",
    "rules_fp_li[rules_fp_li['lhs items']>1].sort_values('lift', ascending=False).head()"
   ]
  },
  {
   "cell_type": "code",
   "execution_count": 26,
   "id": "520b1288",
   "metadata": {},
   "outputs": [
    {
     "data": {
      "text/plain": [
       "(array([ 0.5,  2.5,  4.5,  6.5,  8.5, 10.5, 12.5, 14.5, 16.5, 18.5, 20.5,\n",
       "        22.5, 24.5, 26.5, 28.5, 30.5, 32.5]),\n",
       " [Text(0.5, 0, 'Braveheart'),\n",
       "  Text(2.5, 0, 'Gladiator,Sixth Sense'),\n",
       "  Text(4.5, 0, 'Green Mile,Gladiator'),\n",
       "  Text(6.5, 0, 'Green Mile,Harry Potter1,Sixth Sense'),\n",
       "  Text(8.5, 0, 'Green Mile,LOTR2'),\n",
       "  Text(10.5, 0, 'Green Mile,LOTR2,Sixth Sense'),\n",
       "  Text(12.5, 0, 'Harry Potter1'),\n",
       "  Text(14.5, 0, 'LOTR'),\n",
       "  Text(16.5, 0, 'LOTR,Sixth Sense'),\n",
       "  Text(18.5, 0, 'LOTR1,Green Mile'),\n",
       "  Text(20.5, 0, 'LOTR1,Green Mile,LOTR2'),\n",
       "  Text(22.5, 0, 'LOTR1,Harry Potter1'),\n",
       "  Text(24.5, 0, 'LOTR1,LOTR2'),\n",
       "  Text(26.5, 0, 'LOTR1,LOTR2,Sixth Sense'),\n",
       "  Text(28.5, 0, 'LOTR2'),\n",
       "  Text(30.5, 0, 'LOTR2,Harry Potter1,Sixth Sense'),\n",
       "  Text(32.5, 0, 'Patriot')])"
      ]
     },
     "execution_count": 26,
     "metadata": {},
     "output_type": "execute_result"
    },
    {
     "data": {
      "image/png": "[encoded data removed]",
      "text/plain": [
       "<Figure size 432x288 with 2 Axes>"
      ]
     },
     "metadata": {
      "needs_background": "light"
     },
     "output_type": "display_data"
    }
   ],
   "source": [
    "# Replace frozen sets with strings\n",
    "rules_fp_li['antecedents_'] = rules_fp_li['antecedents'].apply(lambda a: ','.join(list(a)))\n",
    "rules_fp_li['consequents_'] = rules_fp_li['consequents'].apply(lambda a: ','.join(list(a)))\n",
    "# Transform the DataFrame of rules into a matrix using the lift metric\n",
    "pivot = rules_fp_li[rules_fp_li['lhs items']>1].pivot(index = 'antecedents_', \n",
    "                    columns = 'consequents_', values= 'lift')\n",
    "# Generate a heatmap with annotations on and the colorbar off\n",
    "sns.heatmap(pivot, annot = True)\n",
    "plt.title('Heat Map - For Lift Metric')\n",
    "plt.yticks(rotation=0)\n",
    "plt.xticks(rotation=90)"
   ]
  },
  {
   "cell_type": "code",
   "execution_count": null,
   "id": "54cdc6bb",
   "metadata": {},
   "outputs": [],
   "source": []
  }
 ],
 "metadata": {
  "kernelspec": {
   "display_name": "Python 3 (ipykernel)",
   "language": "python",
   "name": "python3"
  },
  "language_info": {
   "codemirror_mode": {
    "name": "ipython",
    "version": 3
   },
   "file_extension": ".py",
   "mimetype": "text/x-python",
   "name": "python",
   "nbconvert_exporter": "python",
   "pygments_lexer": "ipython3",
   "version": "3.9.12"
  }
 },
 "nbformat": 4,
 "nbformat_minor": 5
}
